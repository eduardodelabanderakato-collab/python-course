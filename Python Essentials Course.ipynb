{
 "cells": [
  {
   "cell_type": "markdown",
   "id": "83c90e2a",
   "metadata": {},
   "source": [
    "# First Things First\n",
    "\n",
    "Python is one of many existing programming languages. A simple way to think about coding with python and similar languages is to imagine the scale between human communication and pure binary code(zero and ones that make up everything that happens in your computer)."
   ]
  },
  {
   "cell_type": "markdown",
   "id": "41cf2155",
   "metadata": {},
   "source": [
    "As you can see above, python is in the middle of our natural languages and pure machine language. It is simply a translation for both, and as you'll learn that is not the only skill required for programming, but it is the one you will learn in this course. This is a basic course on python sintax, and does not cover the abstraction process required to develop algorithms."
   ]
  },
  {
   "cell_type": "markdown",
   "id": "6512fb3c",
   "metadata": {},
   "source": [
    "## Printing in Python\n",
    "In many python courses the first thing you are going to learn is how to print. That`s because through print we can explain the most basic concepts in python syntax: what is a function, how text is interpret by the computer in python, and what are variables. Here is an example of a algorithm to print \"Hello, World\", run the programm and see its output."
   ]
  },
  {
   "cell_type": "code",
   "execution_count": 22,
   "id": "07cf2f6e",
   "metadata": {},
   "outputs": [
    {
     "name": "stdout",
     "output_type": "stream",
     "text": [
      "Hello, World\n"
     ]
    }
   ],
   "source": [
    "print(\"Hello, World\")\n"
   ]
  },
  {
   "cell_type": "markdown",
   "id": "b59aa756",
   "metadata": {},
   "source": [
    "### 1. What is a function?\n",
    "Everytime you see a word in yellow followed by parethesis, that will most likely be a function. Functions are essentially a little machine that is proggramed to do something with whatever is inside its parethesis. In this case print will be the equivalent of the computer checking what's inside the parethesis, and returning it to the user is text form, also called in many platforms \"serail monitor\", which is return to the user (or in programming world, output) uin form of characters (abc123!@# etc).\n",
    "\n",
    "### 2. How is text interpreted by the computer? \n",
    "Text can be defined as words put together, or a sequence of characters, in python however it will help you to distinguish actual human text from functions variables and other stuff inside your code. In this case \"Hello, World\" is actual english text, that the computer doesn't really \"understand\". You can think of it as whatever is inside the quotation marks, doesn`t become relevant to the program, the computer will only \"copy and paste it\"to where the text is needed. This type of text is called string, and you will later be able to underst it and its difference from other sequences of characters in your code.\n",
    "\n",
    "\n",
    "### 3. What are variables? \n",
    "We will go into this with depth later, but for now let's check out this next example."
   ]
  },
  {
   "cell_type": "code",
   "execution_count": 23,
   "id": "3a53ac0e",
   "metadata": {},
   "outputs": [
    {
     "name": "stdout",
     "output_type": "stream",
     "text": [
      "My CS teacher is Mr. Caio\n"
     ]
    }
   ],
   "source": [
    "name = \"Mr. Caio\" #assigning variable\n",
    "print(\"My CS teacher is\", name)"
   ]
  },
  {
   "cell_type": "markdown",
   "id": "2e99ae84",
   "metadata": {},
   "source": [
    "* Just a quick pause, in most programming languages there is a way to comment stuff. Comments are 100% ignored by the computer when running the program, to make a comment just add a # and follow it with whatever. Comments are usually taken by granted, but they are helpful to organize your code for you and whoever will read it, like your teacher. When developing long algorithms you will often forget what you are doing in between work sessions, so in order to avoid confusion, write down what you think you will forget or is hard to interpret in your code.\n",
    "\n",
    "Notice that inside the print function we have a string: \"My CS teacher is\", followed by a comma (which is required in python syntax for separating different stuff you are printing), and then a VARIABLE. The variable in this example is name, notice how it doesn't contain quotation marks. Think of variables like a box, they store whatever is after the = sign. And in this box you can put different types of data:\n"
   ]
  },
  {
   "cell_type": "markdown",
   "id": "07a2da81",
   "metadata": {},
   "source": [
    "## Basic Data types\n",
    "-  Data types are the different types of information you can assign for the variables. Different from math that only have numbers assigned for variables, in python you can assign different types of information.\n",
    "### Examples of data in python:\n",
    "- String: Sequence of characters, like: ABC abc !@#%\n",
    "- Integer: All whole numbers, 1 2 3 4 5...\n",
    "- float: Decimals, 1.5,3.7,6.7\n",
    "- list: just like a shopping list\n",
    "- Dictionary: Used to categorize information\n",
    "\n",
    "Try running the examples below to understand better what each variable does.\n",
    "* Python is case sensitive so 'name' does not equal 'Name'\n"
   ]
  },
  {
   "cell_type": "code",
   "execution_count": 24,
   "id": "d8d10afd",
   "metadata": {},
   "outputs": [
    {
     "name": "stdout",
     "output_type": "stream",
     "text": [
      "Hello, Theo\n"
     ]
    }
   ],
   "source": [
    "#String example\n",
    "name = \"Theo\"\n",
    "print(\"Hello,\", name)\n"
   ]
  },
  {
   "cell_type": "markdown",
   "id": "53096c66",
   "metadata": {},
   "source": [
    "Now try to make the algorithm print your name."
   ]
  },
  {
   "cell_type": "code",
   "execution_count": 25,
   "id": "5dd1439c",
   "metadata": {},
   "outputs": [
    {
     "name": "stdout",
     "output_type": "stream",
     "text": [
      "31\n"
     ]
    }
   ],
   "source": [
    "#Integer\n",
    "age = 31\n",
    "print(age)\n"
   ]
  },
  {
   "cell_type": "code",
   "execution_count": 26,
   "id": "5146ad61",
   "metadata": {},
   "outputs": [
    {
     "name": "stdout",
     "output_type": "stream",
     "text": [
      "1.7\n"
     ]
    }
   ],
   "source": [
    "#Float\n",
    "height = 1.7 \n",
    "print(height)\n"
   ]
  },
  {
   "cell_type": "markdown",
   "id": "013b4565",
   "metadata": {},
   "source": [
    "# "
   ]
  },
  {
   "cell_type": "code",
   "execution_count": 27,
   "id": "1e027700",
   "metadata": {},
   "outputs": [
    {
     "name": "stdout",
     "output_type": "stream",
     "text": [
      "Mike\n",
      "5\n",
      "Black\n"
     ]
    }
   ],
   "source": [
    "# Dictionary\n",
    "Dog = {\"name\": \"Mike\", \"Age\": \"5\", \"Colour\": \"Black\"}\n",
    "\n",
    "\n",
    "# Accessing dictionary values\n",
    "print(Dog[\"name\"])   # Output: Mike\n",
    "print(Dog[\"Age\"])    # Output: 5\n",
    "print(Dog[\"Colour\"]) # Output: Black\n"
   ]
  },
  {
   "cell_type": "markdown",
   "id": "cb639343",
   "metadata": {},
   "source": [
    "Dictionaries may be a big step from other data types, so here is further explanation:\n",
    "\n",
    "## What is a dictionary in Python?\n",
    "\n",
    "A dictionary is like a real dictionary in a book:\n",
    "You look up a word (the key), you get the definition (the value)\n",
    "\n",
    "So, in Python, a dictionary stores key–value pairs.\n",
    "\n",
    "### Let's dive into the dog example, and analyse the syntax: \n",
    "{ } → Curly braces mean \"this is a dictionary\".\n",
    "\n",
    "- Inside, we have pairs like \"name\": \"Mike\".\n",
    "- \"name\" is the key, \"Mike\" is the value.\n",
    "- Keys and values are separated with a :.\n",
    "- Different pairs are separated with commas.\n",
    "\n",
    "### Accessing values\n",
    "\n",
    "You get values by using the key inside square brackets:\n",
    "\n",
    "print(Dog[\"name\"])   # Output: Mike\n",
    "print(Dog[\"Age\"])    # Output: 5\n",
    "print(Dog[\"Colour\"]) # Output: Black\n",
    "\n",
    "\n",
    "Dog[\"name\"] looks for the key \"name\" and gives back \"Mike\".\n",
    "\n",
    "Same for \"Age\" and \"Colour\"\n",
    "\n",
    "### Why use dictionaries?\n",
    "\n",
    "- They make your data organized and easy to find.\n",
    "- You don’t need to remember positions (like in a list).\n",
    "- Instead, you just use meaningful labels (keys).\n",
    "\n"
   ]
  },
  {
   "cell_type": "markdown",
   "id": "4ceb2c99",
   "metadata": {},
   "source": [
    "\n",
    "## Input Function\n",
    "\n",
    "- The input() function allows the user to type something when the program is running.\n",
    "- Whatever the user types is stored as a string (text).\n",
    "- We can save it in a variable to use later.\n",
    "The input() function lets the user type information when the program runs.\n",
    "\n",
    "It pauses the program until the user types something and presses Enter.\n",
    "Whatever is typed becomes a string (text).\n",
    "\n",
    "Let's check an example!\n"
   ]
  },
  {
   "cell_type": "code",
   "execution_count": 28,
   "id": "bbf7e09f",
   "metadata": {},
   "outputs": [
    {
     "ename": "KeyboardInterrupt",
     "evalue": "Interrupted by user",
     "output_type": "error",
     "traceback": [
      "\u001b[0;31m---------------------------------------------------------------------------\u001b[0m",
      "\u001b[0;31mKeyboardInterrupt\u001b[0m                         Traceback (most recent call last)",
      "Cell \u001b[0;32mIn[28], line 1\u001b[0m\n\u001b[0;32m----> 1\u001b[0m name \u001b[38;5;241m=\u001b[39m \u001b[38;5;28;43minput\u001b[39;49m\u001b[43m(\u001b[49m\u001b[38;5;124;43m\"\u001b[39;49m\u001b[38;5;124;43mWhat’s your name? \u001b[39;49m\u001b[38;5;124;43m\"\u001b[39;49m\u001b[43m)\u001b[49m\n\u001b[1;32m      2\u001b[0m \u001b[38;5;28mprint\u001b[39m(\u001b[38;5;124m\"\u001b[39m\u001b[38;5;124mHello,\u001b[39m\u001b[38;5;124m\"\u001b[39m, name)\n",
      "File \u001b[0;32m~/Library/Python/3.9/lib/python/site-packages/ipykernel/kernelbase.py:1275\u001b[0m, in \u001b[0;36mKernel.raw_input\u001b[0;34m(self, prompt)\u001b[0m\n\u001b[1;32m   1273\u001b[0m     msg \u001b[38;5;241m=\u001b[39m \u001b[38;5;124m\"\u001b[39m\u001b[38;5;124mraw_input was called, but this frontend does not support input requests.\u001b[39m\u001b[38;5;124m\"\u001b[39m\n\u001b[1;32m   1274\u001b[0m     \u001b[38;5;28;01mraise\u001b[39;00m StdinNotImplementedError(msg)\n\u001b[0;32m-> 1275\u001b[0m \u001b[38;5;28;01mreturn\u001b[39;00m \u001b[38;5;28;43mself\u001b[39;49m\u001b[38;5;241;43m.\u001b[39;49m\u001b[43m_input_request\u001b[49m\u001b[43m(\u001b[49m\n\u001b[1;32m   1276\u001b[0m \u001b[43m    \u001b[49m\u001b[38;5;28;43mstr\u001b[39;49m\u001b[43m(\u001b[49m\u001b[43mprompt\u001b[49m\u001b[43m)\u001b[49m\u001b[43m,\u001b[49m\n\u001b[1;32m   1277\u001b[0m \u001b[43m    \u001b[49m\u001b[38;5;28;43mself\u001b[39;49m\u001b[38;5;241;43m.\u001b[39;49m\u001b[43m_parent_ident\u001b[49m\u001b[43m[\u001b[49m\u001b[38;5;124;43m\"\u001b[39;49m\u001b[38;5;124;43mshell\u001b[39;49m\u001b[38;5;124;43m\"\u001b[39;49m\u001b[43m]\u001b[49m\u001b[43m,\u001b[49m\n\u001b[1;32m   1278\u001b[0m \u001b[43m    \u001b[49m\u001b[38;5;28;43mself\u001b[39;49m\u001b[38;5;241;43m.\u001b[39;49m\u001b[43mget_parent\u001b[49m\u001b[43m(\u001b[49m\u001b[38;5;124;43m\"\u001b[39;49m\u001b[38;5;124;43mshell\u001b[39;49m\u001b[38;5;124;43m\"\u001b[39;49m\u001b[43m)\u001b[49m\u001b[43m,\u001b[49m\n\u001b[1;32m   1279\u001b[0m \u001b[43m    \u001b[49m\u001b[43mpassword\u001b[49m\u001b[38;5;241;43m=\u001b[39;49m\u001b[38;5;28;43;01mFalse\u001b[39;49;00m\u001b[43m,\u001b[49m\n\u001b[1;32m   1280\u001b[0m \u001b[43m\u001b[49m\u001b[43m)\u001b[49m\n",
      "File \u001b[0;32m~/Library/Python/3.9/lib/python/site-packages/ipykernel/kernelbase.py:1320\u001b[0m, in \u001b[0;36mKernel._input_request\u001b[0;34m(self, prompt, ident, parent, password)\u001b[0m\n\u001b[1;32m   1317\u001b[0m \u001b[38;5;28;01mexcept\u001b[39;00m \u001b[38;5;167;01mKeyboardInterrupt\u001b[39;00m:\n\u001b[1;32m   1318\u001b[0m     \u001b[38;5;66;03m# re-raise KeyboardInterrupt, to truncate traceback\u001b[39;00m\n\u001b[1;32m   1319\u001b[0m     msg \u001b[38;5;241m=\u001b[39m \u001b[38;5;124m\"\u001b[39m\u001b[38;5;124mInterrupted by user\u001b[39m\u001b[38;5;124m\"\u001b[39m\n\u001b[0;32m-> 1320\u001b[0m     \u001b[38;5;28;01mraise\u001b[39;00m \u001b[38;5;167;01mKeyboardInterrupt\u001b[39;00m(msg) \u001b[38;5;28;01mfrom\u001b[39;00m\u001b[38;5;250m \u001b[39m\u001b[38;5;28;01mNone\u001b[39;00m\n\u001b[1;32m   1321\u001b[0m \u001b[38;5;28;01mexcept\u001b[39;00m \u001b[38;5;167;01mException\u001b[39;00m:\n\u001b[1;32m   1322\u001b[0m     \u001b[38;5;28mself\u001b[39m\u001b[38;5;241m.\u001b[39mlog\u001b[38;5;241m.\u001b[39mwarning(\u001b[38;5;124m\"\u001b[39m\u001b[38;5;124mInvalid Message:\u001b[39m\u001b[38;5;124m\"\u001b[39m, exc_info\u001b[38;5;241m=\u001b[39m\u001b[38;5;28;01mTrue\u001b[39;00m)\n",
      "\u001b[0;31mKeyboardInterrupt\u001b[0m: Interrupted by user"
     ]
    }
   ],
   "source": [
    "name = input(\"What’s your name? \")\n",
    "print(\"Hello,\", name)"
   ]
  },
  {
   "cell_type": "markdown",
   "id": "b76d1668",
   "metadata": {},
   "source": [
    "### Syntax Explanation\n",
    "variable_name = input(\"Message shown to the user: \")\n",
    "\n",
    "variable_name → a label (box) where the answer is stored.\n",
    "\n",
    "= → means “store the value in the box.”\n",
    "\n",
    "input() → the function that collects the user’s text.\n",
    "\n",
    "\"Message shown to the user\" → the prompt/question the user will see.\n",
    "\n",
    "### What is happening in that programm?\n",
    "1. The computer shows: What is your name?\n",
    "2. You type: Alice\n",
    "3. Python stores \"Alice\" inside the variable name.\n",
    "4. The program prints: \"Hello, Alice\"\n",
    "\n",
    "## Let's Practice\n",
    "Quick Activity: Write a program that asks for your favorite hobby and then prints a sentence referring to it. \n",
    "The expected output should be something like: \"That sounds fun! I like\", hobby, \"too.\"\n",
    "\n",
    "Challenges: \n",
    "Create a program that:\n",
    "- Asks for the user’s name.\n",
    "- Asks for the user’s age.\n",
    "- The expected output should be something like: \"Hello Sarah, you are 15 years old!\"\n",
    "\n"
   ]
  },
  {
   "cell_type": "markdown",
   "id": "ec8f6eb1",
   "metadata": {},
   "source": [
    "### Math in Python\n",
    "Now, let's take a look at some calculations we can use in our programs:\n",
    "\n",
    "Math in python is just like the math we learn in math class, what changes are some of the signs we use, so let's learn the syntax.\n",
    "\n",
    "\n",
    "- Multiplication: *\n",
    "- Subtraction: -\n",
    "- Addition: +\n",
    "- Division:\n",
    "    - Decimal answer: /\n",
    "    - No decimal: //\n",
    "    - Show remainder of division: %\n",
    "- Exponent: **\n"
   ]
  },
  {
   "cell_type": "code",
   "execution_count": null,
   "id": "e1991f63",
   "metadata": {},
   "outputs": [],
   "source": [
    "# Multiplication\n",
    "5*7\n",
    "\n",
    "# Subtraction\n",
    "7 - 5\n",
    "\n",
    "# Addition\n",
    "33+34\n",
    "\n",
    "# All divison types\n",
    "\n",
    "\n",
    "# Normal division (always float)\n",
    "print(5 / 2)   # 2.5\n",
    "\n",
    "\n",
    "# Floor division (drops the decimal part, rounds down)\n",
    "print(5 // 2)  # 2\n",
    "\n",
    "\n",
    "# Modulus (gives the remainder)\n",
    "print(5 % 2)   # 1\n",
    "\n",
    "\n",
    "\n",
    "# Exponent\n",
    "5**2\n"
   ]
  },
  {
   "cell_type": "markdown",
   "id": "28dd568e",
   "metadata": {},
   "source": [
    "So now we can mix maths and variables:\n",
    "Remember, that what is before is the box, and whats after is the data stored in it. So when you write:"
   ]
  },
  {
   "cell_type": "code",
   "execution_count": null,
   "id": "8a2a0b0a",
   "metadata": {},
   "outputs": [],
   "source": [
    "a = b"
   ]
  },
  {
   "cell_type": "markdown",
   "id": "c457640c",
   "metadata": {},
   "source": [
    "You are assigning the value of b to a, and not vice - versa. If b is 3, a will become 3, and b will remain 3. Alright, now let's practice:\n",
    "\n",
    "### Challenge 1: \n",
    "Create a program that:\n",
    "\n",
    "Makes two variables: a and b.\n",
    "\n",
    "Stores two numbers in them (any numbers you like).\n",
    "\n",
    "Uses print() to show the results of:\n",
    "\n",
    "- Addition\n",
    "- Subtraction\n",
    "- Multiplication\n",
    "- Division\n",
    "\n",
    "### Challenge 2:\n",
    "Use your preivous porgramm, but now instead of you assinging the values of a and b, ask the user for them using the input function.\n"
   ]
  },
  {
   "cell_type": "code",
   "execution_count": null,
   "id": "480521fb",
   "metadata": {},
   "outputs": [],
   "source": [
    "# Do your exercise here"
   ]
  },
  {
   "cell_type": "markdown",
   "id": "476f895e",
   "metadata": {},
   "source": [
    "## Now, let's check out the if, else and elif statements:\n",
    "These functions, as you will learn will make your programm able to make decisions, so you can do something base on the input received. \n",
    "\n",
    "### What is an if statement?\n",
    "It lets your program make a choice: If a condition is true, do something. Otherwise, do something else.\n"
   ]
  },
  {
   "cell_type": "code",
   "execution_count": null,
   "id": "f9f4eb35",
   "metadata": {},
   "outputs": [],
   "source": [
    "if condition:\n",
    "    # code inside if block\n",
    "elif another_condition:\n",
    "    # code inside elif block\n",
    "else:\n",
    "    # code inside else block\n"
   ]
  },
  {
   "cell_type": "markdown",
   "id": "c830a049",
   "metadata": {},
   "source": [
    "### Key rules for the syntax:\n",
    "\n",
    "- The colon : marks the start of a block.\n",
    "- Indentation (4 spaces or 1 tab) shows which code belongs to that block.\n",
    "- All lines inside the same block must be indented the same amount.\n",
    "- If you remove the indentation, Python will give an IndentationError.\n",
    "\n",
    "Here is a smple example:"
   ]
  },
  {
   "cell_type": "code",
   "execution_count": null,
   "id": "0ac0ed4e",
   "metadata": {},
   "outputs": [],
   "source": [
    "age = 16\n",
    "\n",
    "if age >= 18:\n",
    "    print(\"You are an adult.\")\n",
    "else:\n",
    "    print(\"You are a minor.\")\n"
   ]
  },
  {
   "cell_type": "markdown",
   "id": "f9d8237a",
   "metadata": {},
   "source": [
    "Explanation:\n",
    "- The line under if is indented → belongs to the if block.\n",
    "- The line under else is indented → belongs to the else block.\n",
    "\n",
    "This programm takes data, (age) and \"makes a decision\"on what to print based on it. In this case the decision accounted whether age is less than or equal to (>=) 18. But we have many ways to compare data: \n",
    "\n",
    "## Comparison Operators:\n",
    "What are comparison operators?\n",
    "They are symbols we use inside if or elif statements to compare values.\n",
    "The result is always True or False (a Boolean).\n",
    "\n",
    "| Operator | Meaning                  | Example   | Result |\n",
    "| -------- | ------------------------ | --------- | ------ |\n",
    "| `==`     | Equal to                 | `5 == 5`  | True   |\n",
    "| `!=`     | Not equal to             | `5 != 3`  | True   |\n",
    "| `>`      | Greater than             | `10 > 7`  | True   |\n",
    "| `<`      | Less than                | `2 < 5`   | True   |\n",
    "| `>=`     | Greater than or equal to | `8 >= 8`  | True   |\n",
    "| `<=`     | Less than or equal to    | `6 <= 10` | True   |\n",
    "\n"
   ]
  },
  {
   "cell_type": "code",
   "execution_count": null,
   "id": "2c06a62f",
   "metadata": {},
   "outputs": [],
   "source": [
    "color = input(\"Enter your favorite color: \")\n",
    "\n",
    "if color == \"blue\":\n",
    "    print(\"Nice choice! Blue is cool.\")\n",
    "else:\n",
    "    print(\"That’s a great color too!\")\n"
   ]
  },
  {
   "cell_type": "code",
   "execution_count": null,
   "id": "f3cac2a5",
   "metadata": {},
   "outputs": [],
   "source": [
    "age = int(input(\"How old are you? \"))\n",
    "\n",
    "if age < 13:\n",
    "    print(\"You are a child.\")\n",
    "elif age < 20:\n",
    "    print(\"You are a teenager.\")\n",
    "else:\n",
    "    print(\"You are an adult.\")\n"
   ]
  },
  {
   "cell_type": "markdown",
   "id": "e7548002",
   "metadata": {},
   "source": [
    "### What's the differenc between if, else and elif?\n",
    "\n",
    "#### Rule 1: if\n",
    "Always the first condition you check.\n",
    "Runs only if its condition is True."
   ]
  },
  {
   "cell_type": "code",
   "execution_count": null,
   "id": "1d17f0d3",
   "metadata": {},
   "outputs": [],
   "source": [
    "age = 20\n",
    "\n",
    "if age >= 18:\n",
    "    print(\"You are an adult.\")"
   ]
  },
  {
   "cell_type": "markdown",
   "id": "0ae52d36",
   "metadata": {},
   "source": [
    "#### Rule 2: elif (“else if”)\n",
    "- Comes after an if.\n",
    "- Used when you want to check another condition if the first one was False.\n",
    "- You can have many elif statements.\n",
    "- Only one block (the first true condition) will run."
   ]
  },
  {
   "cell_type": "code",
   "execution_count": null,
   "id": "7e6f6ac8",
   "metadata": {},
   "outputs": [],
   "source": [
    "grade = 75\n",
    "\n",
    "if grade >= 90:\n",
    "    print(\"A\")\n",
    "elif grade >= 80:\n",
    "    print(\"B\")\n",
    "elif grade >= 70:\n",
    "    print(\"C\")"
   ]
  },
  {
   "cell_type": "markdown",
   "id": "42359e41",
   "metadata": {},
   "source": [
    "Here, Python checks in order:\n",
    "\n",
    "1. Is grade >= 90? ❌ No\n",
    "2. Is grade >= 80? ❌ No\n",
    "3. Is grade >= 70? ✅ Yes → prints \"C\""
   ]
  },
  {
   "cell_type": "code",
   "execution_count": null,
   "id": "d707d93d",
   "metadata": {},
   "outputs": [],
   "source": [
    "Rule 3: else\n",
    "- Comes at the end.\n",
    "- It has no condition → it catches everything else if no earlier conditions are true.\n",
    "- You can only have one else."
   ]
  },
  {
   "cell_type": "code",
   "execution_count": null,
   "id": "9b10e10e",
   "metadata": {},
   "outputs": [],
   "source": [
    "number = 3\n",
    "\n",
    "if number > 10:\n",
    "    print(\"Big number\")\n",
    "elif number == 10:\n",
    "    print(\"Exactly 10\")\n",
    "else:\n",
    "    print(\"Small number\")\n"
   ]
  },
  {
   "cell_type": "markdown",
   "id": "45d0833d",
   "metadata": {},
   "source": [
    "Here:\n",
    "- First check → number > 10? ❌ No\n",
    "- Second check → number == 10? ❌ No\n",
    "- Nothing matched → run the else block → \"Small number\"\n",
    "\n",
    "### Cocnlusion:\n",
    "\n",
    "| Keyword | Meaning      | Can it have a condition? | How many can you use? |\n",
    "| ------- | ------------ | ------------------------ | --------------------- |\n",
    "| `if`    | First check  | ✅ Yes                    | 1 (must be first)     |\n",
    "| `elif`  | Extra checks | ✅ Yes                    | As many as you want   |\n",
    "| `else`  | Backup plan  | ❌ No                     | 0 or 1 (must be last) |\n",
    "\n",
    "\n",
    "### Quick Activity\n",
    "Create a program that:\n",
    "- Asks the user for the day of the week:\n",
    "- If it’s \"Monday\", prints \"Start of the week!\".\n",
    "- If it’s \"Friday\", prints \"Almost weekend!\".\n",
    "- Otherwise, prints \"Just another day.\"\n",
    "\n",
    "### Challenge\n",
    "Create a program that:\n",
    "- Asks the user for a number:\n",
    "- If it’s greater than 100 → \"Wow, that’s a big number!\"\n",
    "- If it’s exactly 100 → \"Nice, exactly 100!\"\n",
    "- Otherwise → \"That’s a small number.\""
   ]
  },
  {
   "cell_type": "code",
   "execution_count": null,
   "id": "8cf5d3df",
   "metadata": {},
   "outputs": [],
   "source": [
    "# Do your exercises here"
   ]
  },
  {
   "cell_type": "markdown",
   "id": "2ceeba37",
   "metadata": {},
   "source": [
    "## Using Two Comparisons in One Condition\n",
    "Sometimes one condition isn’t enough. For example:\n",
    "“If it’s sunny and warm, let’s go outside.”\n",
    "“If the password is correct or the user is an admin, allow access.”\n",
    "Python lets us combine conditions with logical operators.\n",
    "\n",
    "Here are the most used operators:\n",
    "\n",
    "| Operator | Meaning                   | Example               | Result |\n",
    "| -------- | ------------------------- | --------------------- | ------ |\n",
    "| `and`    | Both must be true         | `(5 > 2) and (3 < 4)` | True   |\n",
    "| `or`     | At least one must be true | `(5 > 10) or (3 < 4)` | True   |\n",
    "| `not`    | Reverses True/False       | `not(5 > 2)`          | False  |\n",
    "\n",
    "Example 1: Using \"and\""
   ]
  },
  {
   "cell_type": "code",
   "execution_count": null,
   "id": "b702f8e2",
   "metadata": {},
   "outputs": [],
   "source": [
    "x = 10\n",
    "y = 20\n",
    "\n",
    "if x == 10 and y == 20:\n",
    "    print(\"Both conditions are true!\")\n"
   ]
  },
  {
   "cell_type": "markdown",
   "id": "165ac1fd",
   "metadata": {},
   "source": [
    "Here both x == 10 ✅ and y == 20 ✅ are true → so it prints.\n",
    "\n",
    "Example 2: Using \"or\""
   ]
  },
  {
   "cell_type": "code",
   "execution_count": null,
   "id": "4e57ca05",
   "metadata": {},
   "outputs": [],
   "source": [
    "color = \"blue\"\n",
    "shape = \"circle\"\n",
    "\n",
    "if color == \"blue\" or shape == \"square\":\n",
    "    print(\"At least one condition is true\")\n"
   ]
  },
  {
   "cell_type": "markdown",
   "id": "4e9b90bf",
   "metadata": {},
   "source": [
    "Since color == \"blue\" is true, the whole condition is true even though the shape is not a square.\n",
    "\n",
    "Example 3: Using not"
   ]
  },
  {
   "cell_type": "code",
   "execution_count": null,
   "id": "564a1113",
   "metadata": {},
   "outputs": [],
   "source": [
    "is_raining = False\n",
    "\n",
    "if not is_raining:\n",
    "    print(\"Go outside, it’s not raining!\")\n"
   ]
  },
  {
   "cell_type": "markdown",
   "id": "d3ca020c",
   "metadata": {},
   "source": [
    "### Quick Activity:\n",
    "- Ask the user for their age and country.\n",
    "- If the age is 18 or older and the country is \"USA\", print \"You can vote in the USA!\".\n",
    "- Otherwise, print \"Sorry, you cannot vote here.\"\n",
    "\n",
    "### Challenge:\n",
    "- Ask the user for a username and a password.\n",
    "- If the username is \"admin\" and the password is \"1234\", print \"Access granted!\".\n",
    "- Otherwise, print \"Access denied!\".\n",
    "- Bonus: Add an or condition so that if the username is \"guest\", they can enter even without a password."
   ]
  },
  {
   "cell_type": "code",
   "execution_count": null,
   "id": "69bc3ffe",
   "metadata": {},
   "outputs": [],
   "source": [
    "# Do your exercises here:"
   ]
  },
  {
   "cell_type": "markdown",
   "id": "5327d0d2",
   "metadata": {},
   "source": [
    "### For Loops in Python:\n",
    "What is a loop?\n",
    "A loop makes the computer repeat code multiple times automatically.\n",
    "Instead of writing the same line over and over, we tell Python:\n",
    "-> “Do this again and again, for each number (or item) in a sequence.”"
   ]
  },
  {
   "cell_type": "code",
   "execution_count": null,
   "id": "8090fcfb",
   "metadata": {},
   "outputs": [],
   "source": [
    "for variable in range(number):\n",
    "    # code to repeat (indented)"
   ]
  },
  {
   "cell_type": "markdown",
   "id": "f38ae143",
   "metadata": {},
   "source": [
    "### Let's check for loops' syntax:\n",
    "- or → keyword to start the loop.\n",
    "- variable → changes each time the loop runs.\n",
    "- in range(number) → tells Python how many times to repeat.\n",
    "- Indented code → the instructions that repeat.\n",
    "- Indentation matters! Everything indented under the loop runs every time.\n",
    "\n",
    "### Example 1: Counting\n"
   ]
  },
  {
   "cell_type": "code",
   "execution_count": null,
   "id": "61379530",
   "metadata": {},
   "outputs": [],
   "source": [
    "for i in range(5):\n",
    "    print(\"Hello\", i)"
   ]
  },
  {
   "cell_type": "markdown",
   "id": "f3be1eec",
   "metadata": {},
   "source": [
    "Run the program and otice: it starts at 0 and stops at 4 (because range(5) means 0 up to 4). This is something really important to consider when working with for loops.\n",
    "\n",
    "### Example 2: Custom Range"
   ]
  },
  {
   "cell_type": "code",
   "execution_count": null,
   "id": "d3b277a8",
   "metadata": {},
   "outputs": [],
   "source": [
    "for i in range(1, 6):\n",
    "    print(i)"
   ]
  },
  {
   "cell_type": "markdown",
   "id": "a378034a",
   "metadata": {},
   "source": [
    "Run the program and notice: here range(1, 6) starts at 1 and goes up to 5 (but not 6).\n",
    "\n",
    "### Example 3: Looping Through a List\n"
   ]
  },
  {
   "cell_type": "code",
   "execution_count": null,
   "id": "3fc924e2",
   "metadata": {},
   "outputs": [],
   "source": [
    "fruits = [\"apple\", \"banana\", \"cherry\"]\n",
    "\n",
    "for fruit in fruits:\n",
    "    print(\"I like\", fruit)\n"
   ]
  },
  {
   "cell_type": "markdown",
   "id": "a1fa9458",
   "metadata": {},
   "source": [
    "### Quick Activity\n",
    "1. Write a loop that prints the numbers 1 to 10.\n",
    "2. Write a loop that prints \"Python is fun!\" 5 times.\n",
    "3. Write a loop that prints every number from 10 down to 1. (Hint: use range(10, 0, -1)).\n",
    "\n",
    "### Challenge\n",
    "\n",
    "Write a program that:\n",
    "- Asks the user for a number (example: 5).\n",
    "- Prints the multiplication table for that number (up to 10).\n",
    "\n",
    "Expect output if user enters 5:\n",
    "5 x 1 = 5\n",
    "5 x 2 = 10\n",
    "5 x 3 = 15\n",
    "...\n",
    "5 x 10 = 50\n",
    "\n",
    "### To wrap up:\n",
    "- The for loop is like saying “Play each song in the list, one by one.”\n",
    "- The variable is the current song.\n"
   ]
  },
  {
   "cell_type": "code",
   "execution_count": null,
   "id": "c6f3cc5e",
   "metadata": {},
   "outputs": [],
   "source": [
    "# Do your exercises here"
   ]
  },
  {
   "cell_type": "markdown",
   "id": "72ba57b1",
   "metadata": {},
   "source": [
    "Congratulations! You have, now, all the basic syntax needed to continue exploring python."
   ]
  }
 ],
 "metadata": {
  "kernelspec": {
   "display_name": "Python 3",
   "language": "python",
   "name": "python3"
  },
  "language_info": {
   "codemirror_mode": {
    "name": "ipython",
    "version": 3
   },
   "file_extension": ".py",
   "mimetype": "text/x-python",
   "name": "python",
   "nbconvert_exporter": "python",
   "pygments_lexer": "ipython3",
   "version": "3.9.6"
  }
 },
 "nbformat": 4,
 "nbformat_minor": 5
}
